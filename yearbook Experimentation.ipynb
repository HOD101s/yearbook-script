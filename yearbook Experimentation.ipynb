{
 "cells": [
  {
   "cell_type": "code",
   "execution_count": 1,
   "metadata": {},
   "outputs": [],
   "source": [
    "from PIL import Image, ImageDraw, ImageFont, ImageOps\n",
    "from IPython.display import display\n",
    "import textwrap\n",
    "Image.MAX_IMAGE_PIXELS = None\n",
    "\n",
    "from tqdm.auto import tqdm\n",
    "import numpy as np\n",
    "import pandas as pd\n",
    "import requests\n",
    "import shutil\n",
    "\n",
    "import os.path\n",
    "import io\n",
    "import pickle\n",
    "from urllib.parse import urlparse\n",
    "from googleapiclient.discovery import build\n",
    "from google_auth_oauthlib.flow import InstalledAppFlow\n",
    "from google.auth.transport.requests import Request\n",
    "from googleapiclient.http import MediaIoBaseDownload"
   ]
  },
  {
   "cell_type": "code",
   "execution_count": 2,
   "metadata": {},
   "outputs": [],
   "source": [
    "SCOPES = ['https://www.googleapis.com/auth/drive']\n",
    "creds = None\n",
    "if os.path.exists('token.pickle'):\n",
    "    with open('token.pickle', 'rb') as token:\n",
    "        creds = pickle.load(token)\n",
    "# If there are no (valid) credentials available, let the user log in.\n",
    "if not creds or not creds.valid:\n",
    "    if creds and creds.expired and creds.refresh_token:\n",
    "        creds.refresh(Request())\n",
    "    else:\n",
    "        flow = InstalledAppFlow.from_client_secrets_file(\n",
    "            'credentials.json', SCOPES)\n",
    "        creds = flow.run_local_server(port=0)\n",
    "    # Save the credentials for the next run\n",
    "    with open('token.pickle', 'wb') as token:\n",
    "        pickle.dump(creds, token)\n",
    "drive = build('drive', 'v3', credentials=creds)"
   ]
  },
  {
   "cell_type": "code",
   "execution_count": 4,
   "metadata": {},
   "outputs": [],
   "source": [
    "data = pd.read_csv('data/BECMPNA.csv')"
   ]
  },
  {
   "cell_type": "code",
   "execution_count": 5,
   "metadata": {},
   "outputs": [],
   "source": [
    "def getId(url):\n",
    "    urls = url.split(',')\n",
    "    res = []\n",
    "    for link in urls:\n",
    "        res.append(urlparse(link).query[3:])\n",
    "    return res"
   ]
  },
  {
   "cell_type": "code",
   "execution_count": 6,
   "metadata": {},
   "outputs": [],
   "source": [
    "data['ImageId'] = data['Picture '].apply(lambda x : getId(x))"
   ]
  },
  {
   "cell_type": "code",
   "execution_count": 10,
   "metadata": {},
   "outputs": [],
   "source": [
    "def generateStudent(target,name,img,quote,roll,index,verbose):\n",
    "    \n",
    "    # get image    \n",
    "    # google api to download file into student.png\n",
    "    try:\n",
    "        request = drive.files().get_media(fileId=img)\n",
    "        fh = io.FileIO(\"student.png\", 'wb')\n",
    "        downloader = MediaIoBaseDownload(fh, request)\n",
    "        done = False\n",
    "        while done is False:\n",
    "            status, done = downloader.next_chunk()\n",
    "            if verbose:\n",
    "                print(name)  \n",
    "            \n",
    "        # File Naming Convention : RollNumber StudentName PhotoNumber Rotation\n",
    "        filename = str(roll)+' '+name+' '+str(index+1)\n",
    "\n",
    "        student = Image.open('student.png')\n",
    "    except Exception as e:\n",
    "        print(f'Failed on Image : {index+1} Roll : {roll} Name : {name}')\n",
    "        print(e)\n",
    "        with open('logs.txt','a') as f:\n",
    "            f.write(f'Failed on Image : {index+1} Roll : {roll} Name : {name}\\n{e}\\n\\n')\n",
    "        return\n",
    "\n",
    "    targetCopy = target.copy()\n",
    "\n",
    "    if student.size[0]>student.size[1]:\n",
    "        # save vertical image with 90 shifts\n",
    "        getImg(target,name,student.rotate(270,expand=True),quote).save(+filename+' 270.png')\n",
    "        getImg(target,name,student.rotate(90,expand=True),quote).save(filename+' 90.png')\n",
    "        \n",
    "    getImg(targetCopy,name,student,quote).save(filename+'.png')\n",
    "        \n",
    "\n",
    "def getImg(targetObj,name,student,quote,CORRECTION=7):\n",
    "\n",
    "    target = targetObj.copy()\n",
    "    \n",
    "    d = ImageDraw.Draw(target)\n",
    "    \n",
    "    # Paste student image in target\n",
    "    student.thumbnail( (500,500), Image.ANTIALIAS)\n",
    "    student = ImageOps.expand(student, border=3)\n",
    "    target.paste(student,((target.size[0]-student.size[0])//2 + CORRECTION, ((target.size[1]-student.size[1])//2-60 )))\n",
    "    \n",
    "    # Add Name\n",
    "    namefont = ImageFont.truetype(\"fonts/gabr.ttf\", 40)\n",
    "    w,h = d.textsize(name,namefont)\n",
    "    d.text(((target.size[0]-w)/2+ CORRECTION,750), name, fill=(0,0,0),font=namefont)\n",
    "    \n",
    "    # Add Quote\n",
    "    quotefont = ImageFont.truetype(\"fonts/Symbola.ttf\", 30)\n",
    "    currentHt,pad = 810,30\n",
    "    para = textwrap.wrap(quote, width=45)\n",
    "    for line in para:\n",
    "        w,h = d.textsize(line,quotefont)\n",
    "        d.text(((target.size[0]-w)/2+ CORRECTION,currentHt), line, fill=(0,0,0),font=quotefont)\n",
    "        currentHt += pad\n",
    "    \n",
    "    return target"
   ]
  },
  {
   "cell_type": "code",
   "execution_count": 11,
   "metadata": {
    "tags": []
   },
   "outputs": [
    {
     "output_type": "stream",
     "name": "stderr",
     "text": "0%|          | 0/68 [00:03<?, ?it/s]\n"
    },
    {
     "output_type": "error",
     "ename": "TypeError",
     "evalue": "bad operand type for unary +: 'str'",
     "traceback": [
      "\u001b[1;31m---------------------------------------------------------------------------\u001b[0m",
      "\u001b[1;31mTypeError\u001b[0m                                 Traceback (most recent call last)",
      "\u001b[1;32m<ipython-input-11-32f4ce1ec11c>\u001b[0m in \u001b[0;36m<module>\u001b[1;34m\u001b[0m\n\u001b[0;32m      7\u001b[0m \u001b[1;33m\u001b[0m\u001b[0m\n\u001b[0;32m      8\u001b[0m     \u001b[1;32mfor\u001b[0m \u001b[0mj\u001b[0m \u001b[1;32min\u001b[0m \u001b[0mrange\u001b[0m\u001b[1;33m(\u001b[0m\u001b[0mlen\u001b[0m\u001b[1;33m(\u001b[0m\u001b[0mimg\u001b[0m\u001b[1;33m)\u001b[0m\u001b[1;33m)\u001b[0m\u001b[1;33m:\u001b[0m\u001b[1;33m\u001b[0m\u001b[1;33m\u001b[0m\u001b[0m\n\u001b[1;32m----> 9\u001b[1;33m         \u001b[0mgenerateStudent\u001b[0m\u001b[1;33m(\u001b[0m\u001b[0mtarget\u001b[0m\u001b[1;33m,\u001b[0m\u001b[0mname\u001b[0m\u001b[1;33m,\u001b[0m\u001b[0mimg\u001b[0m\u001b[1;33m[\u001b[0m\u001b[0mj\u001b[0m\u001b[1;33m]\u001b[0m\u001b[1;33m,\u001b[0m\u001b[0mquote\u001b[0m\u001b[1;33m,\u001b[0m\u001b[0mroll\u001b[0m\u001b[1;33m,\u001b[0m\u001b[0mj\u001b[0m\u001b[1;33m,\u001b[0m\u001b[1;32mFalse\u001b[0m\u001b[1;33m)\u001b[0m\u001b[1;33m\u001b[0m\u001b[1;33m\u001b[0m\u001b[0m\n\u001b[0m",
      "\u001b[1;32m<ipython-input-10-ae0f8dbafee3>\u001b[0m in \u001b[0;36mgenerateStudent\u001b[1;34m(target, name, img, quote, roll, index, verbose)\u001b[0m\n\u001b[0;32m     28\u001b[0m     \u001b[1;32mif\u001b[0m \u001b[0mstudent\u001b[0m\u001b[1;33m.\u001b[0m\u001b[0msize\u001b[0m\u001b[1;33m[\u001b[0m\u001b[1;36m0\u001b[0m\u001b[1;33m]\u001b[0m\u001b[1;33m>\u001b[0m\u001b[0mstudent\u001b[0m\u001b[1;33m.\u001b[0m\u001b[0msize\u001b[0m\u001b[1;33m[\u001b[0m\u001b[1;36m1\u001b[0m\u001b[1;33m]\u001b[0m\u001b[1;33m:\u001b[0m\u001b[1;33m\u001b[0m\u001b[1;33m\u001b[0m\u001b[0m\n\u001b[0;32m     29\u001b[0m         \u001b[1;31m# save vertical image with 90 shifts\u001b[0m\u001b[1;33m\u001b[0m\u001b[1;33m\u001b[0m\u001b[1;33m\u001b[0m\u001b[0m\n\u001b[1;32m---> 30\u001b[1;33m         \u001b[0mgetImg\u001b[0m\u001b[1;33m(\u001b[0m\u001b[0mtarget\u001b[0m\u001b[1;33m,\u001b[0m\u001b[0mname\u001b[0m\u001b[1;33m,\u001b[0m\u001b[0mstudent\u001b[0m\u001b[1;33m.\u001b[0m\u001b[0mrotate\u001b[0m\u001b[1;33m(\u001b[0m\u001b[1;36m270\u001b[0m\u001b[1;33m,\u001b[0m\u001b[0mexpand\u001b[0m\u001b[1;33m=\u001b[0m\u001b[1;32mTrue\u001b[0m\u001b[1;33m)\u001b[0m\u001b[1;33m,\u001b[0m\u001b[0mquote\u001b[0m\u001b[1;33m)\u001b[0m\u001b[1;33m.\u001b[0m\u001b[0msave\u001b[0m\u001b[1;33m(\u001b[0m\u001b[1;33m+\u001b[0m\u001b[0mfilename\u001b[0m\u001b[1;33m+\u001b[0m\u001b[1;34m' 270.png'\u001b[0m\u001b[1;33m)\u001b[0m\u001b[1;33m\u001b[0m\u001b[1;33m\u001b[0m\u001b[0m\n\u001b[0m\u001b[0;32m     31\u001b[0m         \u001b[0mgetImg\u001b[0m\u001b[1;33m(\u001b[0m\u001b[0mtarget\u001b[0m\u001b[1;33m,\u001b[0m\u001b[0mname\u001b[0m\u001b[1;33m,\u001b[0m\u001b[0mstudent\u001b[0m\u001b[1;33m.\u001b[0m\u001b[0mrotate\u001b[0m\u001b[1;33m(\u001b[0m\u001b[1;36m90\u001b[0m\u001b[1;33m,\u001b[0m\u001b[0mexpand\u001b[0m\u001b[1;33m=\u001b[0m\u001b[1;32mTrue\u001b[0m\u001b[1;33m)\u001b[0m\u001b[1;33m,\u001b[0m\u001b[0mquote\u001b[0m\u001b[1;33m)\u001b[0m\u001b[1;33m.\u001b[0m\u001b[0msave\u001b[0m\u001b[1;33m(\u001b[0m\u001b[0mfilename\u001b[0m\u001b[1;33m+\u001b[0m\u001b[1;34m' 90.png'\u001b[0m\u001b[1;33m)\u001b[0m\u001b[1;33m\u001b[0m\u001b[1;33m\u001b[0m\u001b[0m\n\u001b[0;32m     32\u001b[0m \u001b[1;33m\u001b[0m\u001b[0m\n",
      "\u001b[1;31mTypeError\u001b[0m: bad operand type for unary +: 'str'"
     ]
    }
   ],
   "source": [
    "for i in tqdm(range(data.shape[0])):\n",
    "    target = Image.open('targets/targetPink.png')\n",
    "    name = data.iloc[i]['Full Name.']\n",
    "    img = data.iloc[i]['ImageId']\n",
    "    quote = data.iloc[i]['Quote']\n",
    "    roll = data.iloc[i]['Roll No.']\n",
    "    \n",
    "    for j in range(len(img)):\n",
    "        generateStudent(target,name,img[j],quote,roll,j,False)"
   ]
  },
  {
   "cell_type": "code",
   "execution_count": null,
   "metadata": {},
   "outputs": [],
   "source": []
  }
 ],
 "metadata": {
  "kernelspec": {
   "display_name": "Python 3.8.3 64-bit ('base': conda)",
   "language": "python",
   "name": "python_defaultSpec_1599335733112"
  },
  "language_info": {
   "codemirror_mode": {
    "name": "ipython",
    "version": 3
   },
   "file_extension": ".py",
   "mimetype": "text/x-python",
   "name": "python",
   "nbconvert_exporter": "python",
   "pygments_lexer": "ipython3",
   "version": "3.8.3-final"
  }
 },
 "nbformat": 4,
 "nbformat_minor": 4
}